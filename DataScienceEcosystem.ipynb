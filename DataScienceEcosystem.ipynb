{
 "cells": [
  {
   "cell_type": "markdown",
   "id": "9bf8d531-7799-4966-a641-b6c1bbab49b5",
   "metadata": {
    "tags": []
   },
   "source": [
    "**Exercise 2: Create markdown cell with title of the notebook**\n",
    "\n",
    "# Data Science Tools and Ecosystem"
   ]
  },
  {
   "cell_type": "markdown",
   "id": "9fb5f574-3d08-4d39-b5d3-428bffed1998",
   "metadata": {},
   "source": [
    "**Exercise 3 - Create a markdown cell for an introduction**\n",
    "\n",
    "In this notebook, Data Science Tools and Ecosystem are summarized."
   ]
  },
  {
   "cell_type": "markdown",
   "id": "7511a597-d405-4c16-9a5c-292b34541cce",
   "metadata": {},
   "source": [
    "**Exercise 4 - Create a markdown cell to list data science languages**\n",
    "\n",
    "Some of the popular languages that Data Scientists use are:\n",
    "    \n",
    "1. Python\n",
    "2. R\n",
    "3. SQL\n",
    "4. Java"
   ]
  },
  {
   "cell_type": "markdown",
   "id": "417347e7-487f-4d3a-b1f5-99db571e5c8b",
   "metadata": {},
   "source": [
    "**Exercise 5 - Create a markdown cell to list data science libraries**\n",
    "\n",
    "Some of the commonly used libraries used by Data Scientists include:\n",
    "1. NumPy\n",
    "2. Keras\n",
    "3. Pandas\n",
    "4. PyTorch\n",
    "5. SciPy"
   ]
  },
  {
   "cell_type": "markdown",
   "id": "393eba00-0e5e-4c96-a1d2-bfb2c403134f",
   "metadata": {},
   "source": [
    "**Exercise 6 - Create a markdown cell with a table of Data Science tools**\n",
    "\n",
    "|Data Science Tools | \n",
    "| ------ |\n",
    "| Jupyter Notebooks |\n",
    "| Jupyter Notebooks |\n",
    "| Apache Spark |"
   ]
  },
  {
   "cell_type": "markdown",
   "id": "1dada94f-e101-4ab5-8aa0-9e15959f69ce",
   "metadata": {
    "tags": []
   },
   "source": [
    "**Exercise 7 - Create a markdown cell introducing arithmetic expression examples**\n",
    "\n",
    "### Below are a few examples of evaluating arithmetic expressions in Python"
   ]
  },
  {
   "cell_type": "markdown",
   "id": "caf1f347-c392-4eda-b163-dfc3a54a1c19",
   "metadata": {
    "tags": []
   },
   "source": [
    "**Exercise 8 - Create a code cell to multiply and add numbers**\n",
    "\n",
    "This a simple arithmetic expression to mutiply then add integers"
   ]
  },
  {
   "cell_type": "code",
   "execution_count": 5,
   "id": "9203ae22-2402-4546-aab5-3aa840ec4f7c",
   "metadata": {
    "tags": []
   },
   "outputs": [
    {
     "data": {
      "text/plain": [
       "17"
      ]
     },
     "execution_count": 5,
     "metadata": {},
     "output_type": "execute_result"
    }
   ],
   "source": [
    "(3*4)+5"
   ]
  },
  {
   "cell_type": "markdown",
   "id": "f4288c76-1d36-4e90-9459-2b99d0b0b408",
   "metadata": {},
   "source": [
    "**Exercise 9 - Create a code cell to convert minutes to hours**\n",
    "\n",
    "This will convert 200 minutes to hours by diving by 60"
   ]
  },
  {
   "cell_type": "code",
   "execution_count": 8,
   "id": "67ed1483-8af1-48db-9cc7-08221486ba23",
   "metadata": {
    "tags": []
   },
   "outputs": [
    {
     "name": "stdin",
     "output_type": "stream",
     "text": [
      "Enter Minutes :-->  200\n"
     ]
    },
    {
     "name": "stdout",
     "output_type": "stream",
     "text": [
      "Hour : Minute :-->  3  :  20\n"
     ]
    }
   ],
   "source": [
    "min = int(input(\"Enter Minutes :--> \"))\n",
    "print(\"Hour : Minute :--> \", int(min/60), \" : \", min % 60)"
   ]
  },
  {
   "cell_type": "markdown",
   "id": "aa5257cc-6ef5-4e3a-9ade-2fae91adc467",
   "metadata": {
    "tags": []
   },
   "source": [
    "**Exercise 10 - Insert a markdown cell to list Objectives**\n",
    "\n",
    "In this notebook, Data Science Tools and Ecosystem are summarized.\n",
    "\n",
    "**Objectives:**\n",
    "\n",
    "List popular languages for Data Science\n",
    "\n",
    "* Python\n",
    "* R\n",
    "* SQL"
   ]
  },
  {
   "cell_type": "markdown",
   "id": "4049cbda-5923-4fe2-9ca1-975ca6ff32ee",
   "metadata": {},
   "source": [
    "**Exercise 11 - Create a markdown cell to indicate the Author's name**\n",
    "\n",
    "##Author\n",
    "\n",
    "Victor Borodin\n"
   ]
  }
 ],
 "metadata": {
  "kernelspec": {
   "display_name": "Python",
   "language": "python",
   "name": "conda-env-python-py"
  },
  "language_info": {
   "codemirror_mode": {
    "name": "ipython",
    "version": 3
   },
   "file_extension": ".py",
   "mimetype": "text/x-python",
   "name": "python",
   "nbconvert_exporter": "python",
   "pygments_lexer": "ipython3",
   "version": "3.7.12"
  }
 },
 "nbformat": 4,
 "nbformat_minor": 5
}
